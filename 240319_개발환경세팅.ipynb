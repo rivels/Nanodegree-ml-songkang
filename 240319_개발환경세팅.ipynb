{
 "cells": [
  {
   "cell_type": "markdown",
   "id": "52760bc5",
   "metadata": {},
   "source": [
    "# 240319_개발환경세팅\n",
    "  \n",
    "  \n",
    "### 기본 환경 설정 \n",
    "\n",
    "1. GCP의 Compute engine 설정\n",
    "    - 수업에 필요한 스펙의 인스턴스 생성\n",
    "    - linux 명령어로 pub key, private key 생성 (keygen)\n",
    "    - 생성된 인스턴스의 메타데이터에 ssh key 값 입력\n",
    "  \n",
    "2. vs code를 통한 인스턴스 접속 설정\n",
    "\n",
    "3. 인스턴스 기초 환경 세팅\n",
    "    - 미니콘다 설치\n",
    "    - python 3.11 설치\n",
    "    - 의존성관리 poetry - 파이썬과 미니콘다를 최초 설치하고 이외의 모든 라이브러리는 poetry로 관리\n",
    "        - pyproject.toml 파일에 설치된 라이브러리의 버전이 관리됨\n",
    "        \n",
    "- 의존성 : 작성된 프로그램에 사용된 라이브러리들의 버전 설정 내용"
   ]
  },
  {
   "cell_type": "code",
   "execution_count": null,
   "id": "f736a0a9",
   "metadata": {},
   "outputs": [],
   "source": []
  }
 ],
 "metadata": {
  "kernelspec": {
   "display_name": "Python 3",
   "language": "python",
   "name": "python3"
  },
  "language_info": {
   "codemirror_mode": {
    "name": "ipython",
    "version": 3
   },
   "file_extension": ".py",
   "mimetype": "text/x-python",
   "name": "python",
   "nbconvert_exporter": "python",
   "pygments_lexer": "ipython3",
   "version": "3.8.6"
  }
 },
 "nbformat": 4,
 "nbformat_minor": 5
}
